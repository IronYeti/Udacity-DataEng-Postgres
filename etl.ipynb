{
 "cells": [
  {
   "cell_type": "markdown",
   "metadata": {
    "editable": true
   },
   "source": [
    "# ETL Processes\n",
    "Use this notebook to develop the ETL process for each of your tables before completing the `etl.py` file to load the whole datasets."
   ]
  },
  {
   "cell_type": "code",
   "execution_count": 1,
   "metadata": {
    "editable": true
   },
   "outputs": [],
   "source": [
    "!python3 create_tables.py"
   ]
  },
  {
   "cell_type": "code",
   "execution_count": 4,
   "metadata": {
    "editable": true
   },
   "outputs": [],
   "source": [
    "import os\n",
    "import glob\n",
    "import psycopg2\n",
    "import pandas as pd\n",
    "from sql_queries import *"
   ]
  },
  {
   "cell_type": "code",
   "execution_count": 6,
   "metadata": {
    "editable": true
   },
   "outputs": [],
   "source": [
    "conn = psycopg2.connect(\"host=127.0.0.1 dbname=sparkifydb user=student password=student\")\n",
    "cur = conn.cursor()"
   ]
  },
  {
   "cell_type": "code",
   "execution_count": 26,
   "metadata": {
    "editable": true
   },
   "outputs": [],
   "source": [
    "def get_files(filepath):\n",
    "    all_files = []\n",
    "    for root, dirs, files in os.walk(filepath):\n",
    "        files = glob.glob(os.path.join(root,'*.json'))\n",
    "        for f in files :\n",
    "            all_files.append(os.path.abspath(f))\n",
    "    \n",
    "    return all_files"
   ]
  },
  {
   "cell_type": "markdown",
   "metadata": {
    "editable": true
   },
   "source": [
    "# Process `song_data`\n",
    "In this first part, you'll perform ETL on the first dataset, `song_data`, to create the `songs` and `artists` dimensional tables.\n",
    "\n",
    "Let's perform ETL on a single song file and load a single record into each table to start.\n",
    "- Use the `get_files` function provided above to get a list of all song JSON files in `data/song_data`\n",
    "- Select the first song in this list\n",
    "- Read the song file and view the data"
   ]
  },
  {
   "cell_type": "code",
   "execution_count": 35,
   "metadata": {
    "editable": true
   },
   "outputs": [
    {
     "name": "stdout",
     "output_type": "stream",
     "text": [
      "72 files found\n"
     ]
    }
   ],
   "source": [
    "song_files = get_files(\"data/song_data\")\n",
    "print(len(song_files), \"files found\") # verify we got some data"
   ]
  },
  {
   "cell_type": "code",
   "execution_count": 39,
   "metadata": {
    "editable": true
   },
   "outputs": [
    {
     "data": {
      "text/plain": [
       "'/home/workspace/data/song_data/A/A/A/TRAAAMQ128F1460CD3.json'"
      ]
     },
     "execution_count": 39,
     "metadata": {},
     "output_type": "execute_result"
    }
   ],
   "source": [
    "filepath = song_files[0] # get the first one\n",
    "filepath # verify one\n",
    "\n",
    "# filepath = song_files # get the first one\n",
    "# filepath # verify one"
   ]
  },
  {
   "cell_type": "code",
   "execution_count": 40,
   "metadata": {
    "editable": true
   },
   "outputs": [
    {
     "data": {
      "text/html": [
       "<div>\n",
       "<style scoped>\n",
       "    .dataframe tbody tr th:only-of-type {\n",
       "        vertical-align: middle;\n",
       "    }\n",
       "\n",
       "    .dataframe tbody tr th {\n",
       "        vertical-align: top;\n",
       "    }\n",
       "\n",
       "    .dataframe thead th {\n",
       "        text-align: right;\n",
       "    }\n",
       "</style>\n",
       "<table border=\"1\" class=\"dataframe\">\n",
       "  <thead>\n",
       "    <tr style=\"text-align: right;\">\n",
       "      <th></th>\n",
       "      <th>artist_id</th>\n",
       "      <th>artist_latitude</th>\n",
       "      <th>artist_location</th>\n",
       "      <th>artist_longitude</th>\n",
       "      <th>artist_name</th>\n",
       "      <th>duration</th>\n",
       "      <th>num_songs</th>\n",
       "      <th>song_id</th>\n",
       "      <th>title</th>\n",
       "      <th>year</th>\n",
       "    </tr>\n",
       "  </thead>\n",
       "  <tbody>\n",
       "    <tr>\n",
       "      <th>0</th>\n",
       "      <td>ARD0S291187B9B7BF5</td>\n",
       "      <td>NaN</td>\n",
       "      <td>Ohio</td>\n",
       "      <td>NaN</td>\n",
       "      <td>Rated R</td>\n",
       "      <td>114.78159</td>\n",
       "      <td>1</td>\n",
       "      <td>SOMJBYD12A6D4F8557</td>\n",
       "      <td>Keepin It Real (Skit)</td>\n",
       "      <td>0</td>\n",
       "    </tr>\n",
       "  </tbody>\n",
       "</table>\n",
       "</div>"
      ],
      "text/plain": [
       "            artist_id  artist_latitude artist_location  artist_longitude  \\\n",
       "0  ARD0S291187B9B7BF5              NaN            Ohio               NaN   \n",
       "\n",
       "  artist_name   duration  num_songs             song_id  \\\n",
       "0     Rated R  114.78159          1  SOMJBYD12A6D4F8557   \n",
       "\n",
       "                   title  year  \n",
       "0  Keepin It Real (Skit)     0  "
      ]
     },
     "execution_count": 40,
     "metadata": {},
     "output_type": "execute_result"
    }
   ],
   "source": [
    "df = pd.read_json(filepath, lines=True)   # the lines param is required for this dataset\n",
    "df.head()"
   ]
  },
  {
   "cell_type": "markdown",
   "metadata": {
    "editable": true
   },
   "source": [
    "## #1: `songs` Table\n",
    "#### Extract Data for Songs Table\n",
    "- Select columns for song ID, title, artist ID, year, and duration\n",
    "- Use `df.values` to select just the values from the dataframe\n",
    "- Index to select the first (only) record in the dataframe\n",
    "- Convert the array to a list and set it to `song_data`"
   ]
  },
  {
   "cell_type": "code",
   "execution_count": 45,
   "metadata": {
    "editable": true
   },
   "outputs": [
    {
     "data": {
      "text/plain": [
       "['SOMJBYD12A6D4F8557',\n",
       " 'Keepin It Real (Skit)',\n",
       " 'ARD0S291187B9B7BF5',\n",
       " 0,\n",
       " 114.78159]"
      ]
     },
     "execution_count": 45,
     "metadata": {},
     "output_type": "execute_result"
    }
   ],
   "source": [
    "# we want: song_id, title, artist_id, year, duration\n",
    "# song_data = [df['song_id'][0], df['title'][0], df['artist_id'][0], df['year'][0], df['duration'][0]]\n",
    "song_data = list(df[[\"song_id\", \"title\", \"artist_id\", \"year\", \"duration\"]].values[0])\n",
    "song_data"
   ]
  },
  {
   "cell_type": "markdown",
   "metadata": {
    "editable": true
   },
   "source": [
    "#### Insert Record into Song Table\n",
    "Implement the `song_table_insert` query in `sql_queries.py` and run the cell below to insert a record for this song into the `songs` table. Remember to run `create_tables.py` before running the cell below to ensure you've created/resetted the `songs` table in the sparkify database."
   ]
  },
  {
   "cell_type": "code",
   "execution_count": 10,
   "metadata": {
    "editable": true
   },
   "outputs": [],
   "source": [
    "cur.execute(song_table_insert, song_data)\n",
    "conn.commit()"
   ]
  },
  {
   "cell_type": "markdown",
   "metadata": {
    "editable": true
   },
   "source": [
    "Run `test.ipynb` to see if you've successfully added a record to this table."
   ]
  },
  {
   "cell_type": "markdown",
   "metadata": {
    "editable": true
   },
   "source": [
    "## #2: `artists` Table\n",
    "#### Extract Data for Artists Table\n",
    "- Select columns for artist ID, name, location, latitude, and longitude\n",
    "- Use `df.values` to select just the values from the dataframe\n",
    "- Index to select the first (only) record in the dataframe\n",
    "- Convert the array to a list and set it to `artist_data`"
   ]
  },
  {
   "cell_type": "code",
   "execution_count": 11,
   "metadata": {
    "editable": true
   },
   "outputs": [
    {
     "data": {
      "text/plain": [
       "['ARD0S291187B9B7BF5', 'Rated R', 'Ohio', nan, nan]"
      ]
     },
     "execution_count": 11,
     "metadata": {},
     "output_type": "execute_result"
    }
   ],
   "source": [
    "artist_data = list(df[[\"artist_id\", \"artist_name\", \"artist_location\", \"artist_latitude\", \"artist_longitude\"]].values[0])\n",
    "artist_data"
   ]
  },
  {
   "cell_type": "markdown",
   "metadata": {
    "editable": true
   },
   "source": [
    "#### Insert Record into Artist Table\n",
    "Implement the `artist_table_insert` query in `sql_queries.py` and run the cell below to insert a record for this song's artist into the `artists` table. Remember to run `create_tables.py` before running the cell below to ensure you've created/resetted the `artists` table in the sparkify database."
   ]
  },
  {
   "cell_type": "code",
   "execution_count": 12,
   "metadata": {
    "editable": true
   },
   "outputs": [],
   "source": [
    "cur.execute(artist_table_insert, artist_data)\n",
    "conn.commit()"
   ]
  },
  {
   "cell_type": "markdown",
   "metadata": {
    "editable": true
   },
   "source": [
    "Run `test.ipynb` to see if you've successfully added a record to this table."
   ]
  },
  {
   "cell_type": "markdown",
   "metadata": {
    "editable": true
   },
   "source": [
    "# Process `log_data`\n",
    "In this part, you'll perform ETL on the second dataset, `log_data`, to create the `time` and `users` dimensional tables, as well as the `songplays` fact table.\n",
    "\n",
    "Let's perform ETL on a single log file and load a single record into each table.\n",
    "- Use the `get_files` function provided above to get a list of all log JSON files in `data/log_data`\n",
    "- Select the first log file in this list\n",
    "- Read the log file and view the data"
   ]
  },
  {
   "cell_type": "code",
   "execution_count": 13,
   "metadata": {
    "editable": true
   },
   "outputs": [
    {
     "name": "stdout",
     "output_type": "stream",
     "text": [
      "30 files found\n"
     ]
    }
   ],
   "source": [
    "log_files = get_files(\"data/log_data\")\n",
    "print(len(log_files), \"files found\") # verify we got some data"
   ]
  },
  {
   "cell_type": "code",
   "execution_count": 14,
   "metadata": {
    "editable": true
   },
   "outputs": [
    {
     "data": {
      "text/plain": [
       "'/home/workspace/data/log_data/2018/11/2018-11-29-events.json'"
      ]
     },
     "execution_count": 14,
     "metadata": {},
     "output_type": "execute_result"
    }
   ],
   "source": [
    "filepath = log_files[0] # get the first one\n",
    "filepath # verify it"
   ]
  },
  {
   "cell_type": "code",
   "execution_count": 15,
   "metadata": {
    "editable": true
   },
   "outputs": [
    {
     "data": {
      "text/html": [
       "<div>\n",
       "<style scoped>\n",
       "    .dataframe tbody tr th:only-of-type {\n",
       "        vertical-align: middle;\n",
       "    }\n",
       "\n",
       "    .dataframe tbody tr th {\n",
       "        vertical-align: top;\n",
       "    }\n",
       "\n",
       "    .dataframe thead th {\n",
       "        text-align: right;\n",
       "    }\n",
       "</style>\n",
       "<table border=\"1\" class=\"dataframe\">\n",
       "  <thead>\n",
       "    <tr style=\"text-align: right;\">\n",
       "      <th></th>\n",
       "      <th>artist</th>\n",
       "      <th>auth</th>\n",
       "      <th>firstName</th>\n",
       "      <th>gender</th>\n",
       "      <th>itemInSession</th>\n",
       "      <th>lastName</th>\n",
       "      <th>length</th>\n",
       "      <th>level</th>\n",
       "      <th>location</th>\n",
       "      <th>method</th>\n",
       "      <th>page</th>\n",
       "      <th>registration</th>\n",
       "      <th>sessionId</th>\n",
       "      <th>song</th>\n",
       "      <th>status</th>\n",
       "      <th>ts</th>\n",
       "      <th>userAgent</th>\n",
       "      <th>userId</th>\n",
       "    </tr>\n",
       "  </thead>\n",
       "  <tbody>\n",
       "    <tr>\n",
       "      <th>0</th>\n",
       "      <td>Sydney Youngblood</td>\n",
       "      <td>Logged In</td>\n",
       "      <td>Jacob</td>\n",
       "      <td>M</td>\n",
       "      <td>53</td>\n",
       "      <td>Klein</td>\n",
       "      <td>238.07955</td>\n",
       "      <td>paid</td>\n",
       "      <td>Tampa-St. Petersburg-Clearwater, FL</td>\n",
       "      <td>PUT</td>\n",
       "      <td>NextSong</td>\n",
       "      <td>1.540558e+12</td>\n",
       "      <td>954</td>\n",
       "      <td>Ain't No Sunshine</td>\n",
       "      <td>200</td>\n",
       "      <td>1543449657796</td>\n",
       "      <td>\"Mozilla/5.0 (Macintosh; Intel Mac OS X 10_9_4...</td>\n",
       "      <td>73</td>\n",
       "    </tr>\n",
       "    <tr>\n",
       "      <th>1</th>\n",
       "      <td>Gang Starr</td>\n",
       "      <td>Logged In</td>\n",
       "      <td>Layla</td>\n",
       "      <td>F</td>\n",
       "      <td>88</td>\n",
       "      <td>Griffin</td>\n",
       "      <td>151.92771</td>\n",
       "      <td>paid</td>\n",
       "      <td>Lake Havasu City-Kingman, AZ</td>\n",
       "      <td>PUT</td>\n",
       "      <td>NextSong</td>\n",
       "      <td>1.541057e+12</td>\n",
       "      <td>984</td>\n",
       "      <td>My Advice 2 You (Explicit)</td>\n",
       "      <td>200</td>\n",
       "      <td>1543449690796</td>\n",
       "      <td>\"Mozilla/5.0 (Windows NT 6.1; WOW64) AppleWebK...</td>\n",
       "      <td>24</td>\n",
       "    </tr>\n",
       "    <tr>\n",
       "      <th>2</th>\n",
       "      <td>3OH!3</td>\n",
       "      <td>Logged In</td>\n",
       "      <td>Layla</td>\n",
       "      <td>F</td>\n",
       "      <td>89</td>\n",
       "      <td>Griffin</td>\n",
       "      <td>192.52200</td>\n",
       "      <td>paid</td>\n",
       "      <td>Lake Havasu City-Kingman, AZ</td>\n",
       "      <td>PUT</td>\n",
       "      <td>NextSong</td>\n",
       "      <td>1.541057e+12</td>\n",
       "      <td>984</td>\n",
       "      <td>My First Kiss (Feat. Ke$ha) [Album Version]</td>\n",
       "      <td>200</td>\n",
       "      <td>1543449841796</td>\n",
       "      <td>\"Mozilla/5.0 (Windows NT 6.1; WOW64) AppleWebK...</td>\n",
       "      <td>24</td>\n",
       "    </tr>\n",
       "    <tr>\n",
       "      <th>3</th>\n",
       "      <td>RÃÂ¶yksopp</td>\n",
       "      <td>Logged In</td>\n",
       "      <td>Jacob</td>\n",
       "      <td>M</td>\n",
       "      <td>54</td>\n",
       "      <td>Klein</td>\n",
       "      <td>369.81506</td>\n",
       "      <td>paid</td>\n",
       "      <td>Tampa-St. Petersburg-Clearwater, FL</td>\n",
       "      <td>PUT</td>\n",
       "      <td>NextSong</td>\n",
       "      <td>1.540558e+12</td>\n",
       "      <td>954</td>\n",
       "      <td>The Girl and The Robot</td>\n",
       "      <td>200</td>\n",
       "      <td>1543449895796</td>\n",
       "      <td>\"Mozilla/5.0 (Macintosh; Intel Mac OS X 10_9_4...</td>\n",
       "      <td>73</td>\n",
       "    </tr>\n",
       "    <tr>\n",
       "      <th>4</th>\n",
       "      <td>Kajagoogoo</td>\n",
       "      <td>Logged In</td>\n",
       "      <td>Layla</td>\n",
       "      <td>F</td>\n",
       "      <td>90</td>\n",
       "      <td>Griffin</td>\n",
       "      <td>223.55546</td>\n",
       "      <td>paid</td>\n",
       "      <td>Lake Havasu City-Kingman, AZ</td>\n",
       "      <td>PUT</td>\n",
       "      <td>NextSong</td>\n",
       "      <td>1.541057e+12</td>\n",
       "      <td>984</td>\n",
       "      <td>Too Shy</td>\n",
       "      <td>200</td>\n",
       "      <td>1543450033796</td>\n",
       "      <td>\"Mozilla/5.0 (Windows NT 6.1; WOW64) AppleWebK...</td>\n",
       "      <td>24</td>\n",
       "    </tr>\n",
       "  </tbody>\n",
       "</table>\n",
       "</div>"
      ],
      "text/plain": [
       "              artist       auth firstName gender  itemInSession lastName  \\\n",
       "0  Sydney Youngblood  Logged In     Jacob      M             53    Klein   \n",
       "1         Gang Starr  Logged In     Layla      F             88  Griffin   \n",
       "2              3OH!3  Logged In     Layla      F             89  Griffin   \n",
       "3        RÃÂ¶yksopp  Logged In     Jacob      M             54    Klein   \n",
       "4         Kajagoogoo  Logged In     Layla      F             90  Griffin   \n",
       "\n",
       "      length level                             location method      page  \\\n",
       "0  238.07955  paid  Tampa-St. Petersburg-Clearwater, FL    PUT  NextSong   \n",
       "1  151.92771  paid         Lake Havasu City-Kingman, AZ    PUT  NextSong   \n",
       "2  192.52200  paid         Lake Havasu City-Kingman, AZ    PUT  NextSong   \n",
       "3  369.81506  paid  Tampa-St. Petersburg-Clearwater, FL    PUT  NextSong   \n",
       "4  223.55546  paid         Lake Havasu City-Kingman, AZ    PUT  NextSong   \n",
       "\n",
       "   registration  sessionId                                         song  \\\n",
       "0  1.540558e+12        954                            Ain't No Sunshine   \n",
       "1  1.541057e+12        984                   My Advice 2 You (Explicit)   \n",
       "2  1.541057e+12        984  My First Kiss (Feat. Ke$ha) [Album Version]   \n",
       "3  1.540558e+12        954                       The Girl and The Robot   \n",
       "4  1.541057e+12        984                                      Too Shy   \n",
       "\n",
       "   status             ts                                          userAgent  \\\n",
       "0     200  1543449657796  \"Mozilla/5.0 (Macintosh; Intel Mac OS X 10_9_4...   \n",
       "1     200  1543449690796  \"Mozilla/5.0 (Windows NT 6.1; WOW64) AppleWebK...   \n",
       "2     200  1543449841796  \"Mozilla/5.0 (Windows NT 6.1; WOW64) AppleWebK...   \n",
       "3     200  1543449895796  \"Mozilla/5.0 (Macintosh; Intel Mac OS X 10_9_4...   \n",
       "4     200  1543450033796  \"Mozilla/5.0 (Windows NT 6.1; WOW64) AppleWebK...   \n",
       "\n",
       "  userId  \n",
       "0     73  \n",
       "1     24  \n",
       "2     24  \n",
       "3     73  \n",
       "4     24  "
      ]
     },
     "execution_count": 15,
     "metadata": {},
     "output_type": "execute_result"
    }
   ],
   "source": [
    "logs_df = pd.read_json(filepath, lines=True)   # the lines param is required for this dataset\n",
    "logs_df.head()\n",
    "# df.shape"
   ]
  },
  {
   "cell_type": "markdown",
   "metadata": {
    "editable": true
   },
   "source": [
    "## #3: `time` Table\n",
    "#### Extract Data for Time Table\n",
    "- Filter records by `NextSong` action\n",
    "- Convert the `ts` timestamp column to datetime\n",
    "  - Hint: the current timestamp is in milliseconds\n",
    "- Extract the timestamp, hour, day, week of year, month, year, and weekday from the `ts` column and set `time_data` to a list containing these values in order\n",
    "  - Hint: use pandas' [`dt` attribute](https://pandas.pydata.org/pandas-docs/stable/reference/api/pandas.Series.dt.html) to access easily datetimelike properties.\n",
    "- Specify labels for these columns and set to `column_labels`\n",
    "- Create a dataframe, `time_df,` containing the time data for this file by combining `column_labels` and `time_data` into a dictionary and converting this into a dataframe"
   ]
  },
  {
   "cell_type": "code",
   "execution_count": 16,
   "metadata": {
    "editable": true
   },
   "outputs": [
    {
     "data": {
      "text/html": [
       "<div>\n",
       "<style scoped>\n",
       "    .dataframe tbody tr th:only-of-type {\n",
       "        vertical-align: middle;\n",
       "    }\n",
       "\n",
       "    .dataframe tbody tr th {\n",
       "        vertical-align: top;\n",
       "    }\n",
       "\n",
       "    .dataframe thead th {\n",
       "        text-align: right;\n",
       "    }\n",
       "</style>\n",
       "<table border=\"1\" class=\"dataframe\">\n",
       "  <thead>\n",
       "    <tr style=\"text-align: right;\">\n",
       "      <th></th>\n",
       "      <th>artist</th>\n",
       "      <th>auth</th>\n",
       "      <th>firstName</th>\n",
       "      <th>gender</th>\n",
       "      <th>itemInSession</th>\n",
       "      <th>lastName</th>\n",
       "      <th>length</th>\n",
       "      <th>level</th>\n",
       "      <th>location</th>\n",
       "      <th>method</th>\n",
       "      <th>page</th>\n",
       "      <th>registration</th>\n",
       "      <th>sessionId</th>\n",
       "      <th>song</th>\n",
       "      <th>status</th>\n",
       "      <th>ts</th>\n",
       "      <th>userAgent</th>\n",
       "      <th>userId</th>\n",
       "    </tr>\n",
       "  </thead>\n",
       "  <tbody>\n",
       "    <tr>\n",
       "      <th>0</th>\n",
       "      <td>Sydney Youngblood</td>\n",
       "      <td>Logged In</td>\n",
       "      <td>Jacob</td>\n",
       "      <td>M</td>\n",
       "      <td>53</td>\n",
       "      <td>Klein</td>\n",
       "      <td>238.07955</td>\n",
       "      <td>paid</td>\n",
       "      <td>Tampa-St. Petersburg-Clearwater, FL</td>\n",
       "      <td>PUT</td>\n",
       "      <td>NextSong</td>\n",
       "      <td>1.540558e+12</td>\n",
       "      <td>954</td>\n",
       "      <td>Ain't No Sunshine</td>\n",
       "      <td>200</td>\n",
       "      <td>1543449657796</td>\n",
       "      <td>\"Mozilla/5.0 (Macintosh; Intel Mac OS X 10_9_4...</td>\n",
       "      <td>73</td>\n",
       "    </tr>\n",
       "    <tr>\n",
       "      <th>1</th>\n",
       "      <td>Gang Starr</td>\n",
       "      <td>Logged In</td>\n",
       "      <td>Layla</td>\n",
       "      <td>F</td>\n",
       "      <td>88</td>\n",
       "      <td>Griffin</td>\n",
       "      <td>151.92771</td>\n",
       "      <td>paid</td>\n",
       "      <td>Lake Havasu City-Kingman, AZ</td>\n",
       "      <td>PUT</td>\n",
       "      <td>NextSong</td>\n",
       "      <td>1.541057e+12</td>\n",
       "      <td>984</td>\n",
       "      <td>My Advice 2 You (Explicit)</td>\n",
       "      <td>200</td>\n",
       "      <td>1543449690796</td>\n",
       "      <td>\"Mozilla/5.0 (Windows NT 6.1; WOW64) AppleWebK...</td>\n",
       "      <td>24</td>\n",
       "    </tr>\n",
       "    <tr>\n",
       "      <th>2</th>\n",
       "      <td>3OH!3</td>\n",
       "      <td>Logged In</td>\n",
       "      <td>Layla</td>\n",
       "      <td>F</td>\n",
       "      <td>89</td>\n",
       "      <td>Griffin</td>\n",
       "      <td>192.52200</td>\n",
       "      <td>paid</td>\n",
       "      <td>Lake Havasu City-Kingman, AZ</td>\n",
       "      <td>PUT</td>\n",
       "      <td>NextSong</td>\n",
       "      <td>1.541057e+12</td>\n",
       "      <td>984</td>\n",
       "      <td>My First Kiss (Feat. Ke$ha) [Album Version]</td>\n",
       "      <td>200</td>\n",
       "      <td>1543449841796</td>\n",
       "      <td>\"Mozilla/5.0 (Windows NT 6.1; WOW64) AppleWebK...</td>\n",
       "      <td>24</td>\n",
       "    </tr>\n",
       "    <tr>\n",
       "      <th>3</th>\n",
       "      <td>RÃÂ¶yksopp</td>\n",
       "      <td>Logged In</td>\n",
       "      <td>Jacob</td>\n",
       "      <td>M</td>\n",
       "      <td>54</td>\n",
       "      <td>Klein</td>\n",
       "      <td>369.81506</td>\n",
       "      <td>paid</td>\n",
       "      <td>Tampa-St. Petersburg-Clearwater, FL</td>\n",
       "      <td>PUT</td>\n",
       "      <td>NextSong</td>\n",
       "      <td>1.540558e+12</td>\n",
       "      <td>954</td>\n",
       "      <td>The Girl and The Robot</td>\n",
       "      <td>200</td>\n",
       "      <td>1543449895796</td>\n",
       "      <td>\"Mozilla/5.0 (Macintosh; Intel Mac OS X 10_9_4...</td>\n",
       "      <td>73</td>\n",
       "    </tr>\n",
       "    <tr>\n",
       "      <th>4</th>\n",
       "      <td>Kajagoogoo</td>\n",
       "      <td>Logged In</td>\n",
       "      <td>Layla</td>\n",
       "      <td>F</td>\n",
       "      <td>90</td>\n",
       "      <td>Griffin</td>\n",
       "      <td>223.55546</td>\n",
       "      <td>paid</td>\n",
       "      <td>Lake Havasu City-Kingman, AZ</td>\n",
       "      <td>PUT</td>\n",
       "      <td>NextSong</td>\n",
       "      <td>1.541057e+12</td>\n",
       "      <td>984</td>\n",
       "      <td>Too Shy</td>\n",
       "      <td>200</td>\n",
       "      <td>1543450033796</td>\n",
       "      <td>\"Mozilla/5.0 (Windows NT 6.1; WOW64) AppleWebK...</td>\n",
       "      <td>24</td>\n",
       "    </tr>\n",
       "  </tbody>\n",
       "</table>\n",
       "</div>"
      ],
      "text/plain": [
       "              artist       auth firstName gender  itemInSession lastName  \\\n",
       "0  Sydney Youngblood  Logged In     Jacob      M             53    Klein   \n",
       "1         Gang Starr  Logged In     Layla      F             88  Griffin   \n",
       "2              3OH!3  Logged In     Layla      F             89  Griffin   \n",
       "3        RÃÂ¶yksopp  Logged In     Jacob      M             54    Klein   \n",
       "4         Kajagoogoo  Logged In     Layla      F             90  Griffin   \n",
       "\n",
       "      length level                             location method      page  \\\n",
       "0  238.07955  paid  Tampa-St. Petersburg-Clearwater, FL    PUT  NextSong   \n",
       "1  151.92771  paid         Lake Havasu City-Kingman, AZ    PUT  NextSong   \n",
       "2  192.52200  paid         Lake Havasu City-Kingman, AZ    PUT  NextSong   \n",
       "3  369.81506  paid  Tampa-St. Petersburg-Clearwater, FL    PUT  NextSong   \n",
       "4  223.55546  paid         Lake Havasu City-Kingman, AZ    PUT  NextSong   \n",
       "\n",
       "   registration  sessionId                                         song  \\\n",
       "0  1.540558e+12        954                            Ain't No Sunshine   \n",
       "1  1.541057e+12        984                   My Advice 2 You (Explicit)   \n",
       "2  1.541057e+12        984  My First Kiss (Feat. Ke$ha) [Album Version]   \n",
       "3  1.540558e+12        954                       The Girl and The Robot   \n",
       "4  1.541057e+12        984                                      Too Shy   \n",
       "\n",
       "   status             ts                                          userAgent  \\\n",
       "0     200  1543449657796  \"Mozilla/5.0 (Macintosh; Intel Mac OS X 10_9_4...   \n",
       "1     200  1543449690796  \"Mozilla/5.0 (Windows NT 6.1; WOW64) AppleWebK...   \n",
       "2     200  1543449841796  \"Mozilla/5.0 (Windows NT 6.1; WOW64) AppleWebK...   \n",
       "3     200  1543449895796  \"Mozilla/5.0 (Macintosh; Intel Mac OS X 10_9_4...   \n",
       "4     200  1543450033796  \"Mozilla/5.0 (Windows NT 6.1; WOW64) AppleWebK...   \n",
       "\n",
       "  userId  \n",
       "0     73  \n",
       "1     24  \n",
       "2     24  \n",
       "3     73  \n",
       "4     24  "
      ]
     },
     "execution_count": 16,
     "metadata": {},
     "output_type": "execute_result"
    }
   ],
   "source": [
    "nextsong_df = logs_df[logs_df['page'] == 'NextSong']\n",
    "nextsong_df.head()\n",
    "# df.shape"
   ]
  },
  {
   "cell_type": "code",
   "execution_count": 17,
   "metadata": {
    "editable": true
   },
   "outputs": [
    {
     "data": {
      "text/plain": [
       "0   2018-11-29 00:00:57.796\n",
       "1   2018-11-29 00:01:30.796\n",
       "2   2018-11-29 00:04:01.796\n",
       "3   2018-11-29 00:04:55.796\n",
       "4   2018-11-29 00:07:13.796\n",
       "Name: ts, dtype: datetime64[ns]"
      ]
     },
     "execution_count": 17,
     "metadata": {},
     "output_type": "execute_result"
    }
   ],
   "source": [
    "t = pd.to_datetime(nextsong_df['ts'], unit='ms')\n",
    "t.head()"
   ]
  },
  {
   "cell_type": "code",
   "execution_count": 18,
   "metadata": {
    "editable": true
   },
   "outputs": [],
   "source": [
    "time_data = pd.concat([t, t.dt.hour, t.dt.day, t.dt.week, t.dt.month, t.dt.year, t.dt.weekday], axis=1)\n",
    "column_labels = ('start_time', 'hour', 'day', 'weekofyear', 'month', 'year', 'weekday')"
   ]
  },
  {
   "cell_type": "code",
   "execution_count": 19,
   "metadata": {
    "editable": true
   },
   "outputs": [
    {
     "data": {
      "text/html": [
       "<div>\n",
       "<style scoped>\n",
       "    .dataframe tbody tr th:only-of-type {\n",
       "        vertical-align: middle;\n",
       "    }\n",
       "\n",
       "    .dataframe tbody tr th {\n",
       "        vertical-align: top;\n",
       "    }\n",
       "\n",
       "    .dataframe thead th {\n",
       "        text-align: right;\n",
       "    }\n",
       "</style>\n",
       "<table border=\"1\" class=\"dataframe\">\n",
       "  <thead>\n",
       "    <tr style=\"text-align: right;\">\n",
       "      <th></th>\n",
       "      <th>start_time</th>\n",
       "      <th>hour</th>\n",
       "      <th>day</th>\n",
       "      <th>weekofyear</th>\n",
       "      <th>month</th>\n",
       "      <th>year</th>\n",
       "      <th>weekday</th>\n",
       "    </tr>\n",
       "  </thead>\n",
       "  <tbody>\n",
       "    <tr>\n",
       "      <th>0</th>\n",
       "      <td>2018-11-29 00:00:57.796000</td>\n",
       "      <td>0</td>\n",
       "      <td>29</td>\n",
       "      <td>48</td>\n",
       "      <td>11</td>\n",
       "      <td>2018</td>\n",
       "      <td>3</td>\n",
       "    </tr>\n",
       "    <tr>\n",
       "      <th>1</th>\n",
       "      <td>2018-11-29 00:01:30.796000</td>\n",
       "      <td>0</td>\n",
       "      <td>29</td>\n",
       "      <td>48</td>\n",
       "      <td>11</td>\n",
       "      <td>2018</td>\n",
       "      <td>3</td>\n",
       "    </tr>\n",
       "    <tr>\n",
       "      <th>2</th>\n",
       "      <td>2018-11-29 00:04:01.796000</td>\n",
       "      <td>0</td>\n",
       "      <td>29</td>\n",
       "      <td>48</td>\n",
       "      <td>11</td>\n",
       "      <td>2018</td>\n",
       "      <td>3</td>\n",
       "    </tr>\n",
       "    <tr>\n",
       "      <th>3</th>\n",
       "      <td>2018-11-29 00:04:55.796000</td>\n",
       "      <td>0</td>\n",
       "      <td>29</td>\n",
       "      <td>48</td>\n",
       "      <td>11</td>\n",
       "      <td>2018</td>\n",
       "      <td>3</td>\n",
       "    </tr>\n",
       "    <tr>\n",
       "      <th>4</th>\n",
       "      <td>2018-11-29 00:07:13.796000</td>\n",
       "      <td>0</td>\n",
       "      <td>29</td>\n",
       "      <td>48</td>\n",
       "      <td>11</td>\n",
       "      <td>2018</td>\n",
       "      <td>3</td>\n",
       "    </tr>\n",
       "  </tbody>\n",
       "</table>\n",
       "</div>"
      ],
      "text/plain": [
       "                   start_time hour day weekofyear month  year weekday\n",
       "0  2018-11-29 00:00:57.796000    0  29         48    11  2018       3\n",
       "1  2018-11-29 00:01:30.796000    0  29         48    11  2018       3\n",
       "2  2018-11-29 00:04:01.796000    0  29         48    11  2018       3\n",
       "3  2018-11-29 00:04:55.796000    0  29         48    11  2018       3\n",
       "4  2018-11-29 00:07:13.796000    0  29         48    11  2018       3"
      ]
     },
     "execution_count": 19,
     "metadata": {},
     "output_type": "execute_result"
    }
   ],
   "source": [
    "time_df = pd.DataFrame(data=time_data.values, columns=column_labels)\n",
    "time_df.head()"
   ]
  },
  {
   "cell_type": "markdown",
   "metadata": {
    "editable": true
   },
   "source": [
    "#### Insert Records into Time Table\n",
    "Implement the `time_table_insert` query in `sql_queries.py` and run the cell below to insert records for the timestamps in this log file into the `time` table. Remember to run `create_tables.py` before running the cell below to ensure you've created/resetted the `time` table in the sparkify database."
   ]
  },
  {
   "cell_type": "code",
   "execution_count": 20,
   "metadata": {
    "editable": true
   },
   "outputs": [],
   "source": [
    "for i, row in time_df.iterrows():\n",
    "    cur.execute(time_table_insert, list(row))\n",
    "conn.commit()"
   ]
  },
  {
   "cell_type": "markdown",
   "metadata": {
    "editable": true
   },
   "source": [
    "Run `test.ipynb` to see if you've successfully added records to this table."
   ]
  },
  {
   "cell_type": "markdown",
   "metadata": {
    "editable": true
   },
   "source": [
    "## #4: `users` Table\n",
    "#### Extract Data for Users Table\n",
    "- Select columns for user ID, first name, last name, gender and level and set to `user_df`"
   ]
  },
  {
   "cell_type": "code",
   "execution_count": 21,
   "metadata": {
    "editable": true
   },
   "outputs": [
    {
     "data": {
      "text/html": [
       "<div>\n",
       "<style scoped>\n",
       "    .dataframe tbody tr th:only-of-type {\n",
       "        vertical-align: middle;\n",
       "    }\n",
       "\n",
       "    .dataframe tbody tr th {\n",
       "        vertical-align: top;\n",
       "    }\n",
       "\n",
       "    .dataframe thead th {\n",
       "        text-align: right;\n",
       "    }\n",
       "</style>\n",
       "<table border=\"1\" class=\"dataframe\">\n",
       "  <thead>\n",
       "    <tr style=\"text-align: right;\">\n",
       "      <th></th>\n",
       "      <th>user_id</th>\n",
       "      <th>first_name</th>\n",
       "      <th>last_name</th>\n",
       "      <th>gender</th>\n",
       "      <th>level</th>\n",
       "    </tr>\n",
       "  </thead>\n",
       "  <tbody>\n",
       "    <tr>\n",
       "      <th>0</th>\n",
       "      <td>73</td>\n",
       "      <td>Jacob</td>\n",
       "      <td>Klein</td>\n",
       "      <td>M</td>\n",
       "      <td>paid</td>\n",
       "    </tr>\n",
       "    <tr>\n",
       "      <th>1</th>\n",
       "      <td>24</td>\n",
       "      <td>Layla</td>\n",
       "      <td>Griffin</td>\n",
       "      <td>F</td>\n",
       "      <td>paid</td>\n",
       "    </tr>\n",
       "    <tr>\n",
       "      <th>2</th>\n",
       "      <td>24</td>\n",
       "      <td>Layla</td>\n",
       "      <td>Griffin</td>\n",
       "      <td>F</td>\n",
       "      <td>paid</td>\n",
       "    </tr>\n",
       "    <tr>\n",
       "      <th>3</th>\n",
       "      <td>73</td>\n",
       "      <td>Jacob</td>\n",
       "      <td>Klein</td>\n",
       "      <td>M</td>\n",
       "      <td>paid</td>\n",
       "    </tr>\n",
       "    <tr>\n",
       "      <th>4</th>\n",
       "      <td>24</td>\n",
       "      <td>Layla</td>\n",
       "      <td>Griffin</td>\n",
       "      <td>F</td>\n",
       "      <td>paid</td>\n",
       "    </tr>\n",
       "  </tbody>\n",
       "</table>\n",
       "</div>"
      ],
      "text/plain": [
       "  user_id first_name last_name gender level\n",
       "0      73      Jacob     Klein      M  paid\n",
       "1      24      Layla   Griffin      F  paid\n",
       "2      24      Layla   Griffin      F  paid\n",
       "3      73      Jacob     Klein      M  paid\n",
       "4      24      Layla   Griffin      F  paid"
      ]
     },
     "execution_count": 21,
     "metadata": {},
     "output_type": "execute_result"
    }
   ],
   "source": [
    "user_data = pd.concat([logs_df['userId'], logs_df['firstName'], logs_df['lastName'], logs_df['gender'], logs_df['level']], axis=1)\n",
    "column_labels = ('user_id', 'first_name', 'last_name', 'gender', 'level')\n",
    "user_df = pd.DataFrame(data=user_data.values, columns=column_labels)\n",
    "user_df.head()\n",
    "# user_df = "
   ]
  },
  {
   "cell_type": "markdown",
   "metadata": {
    "editable": true
   },
   "source": [
    "#### Insert Records into Users Table\n",
    "Implement the `user_table_insert` query in `sql_queries.py` and run the cell below to insert records for the users in this log file into the `users` table. Remember to run `create_tables.py` before running the cell below to ensure you've created/resetted the `users` table in the sparkify database."
   ]
  },
  {
   "cell_type": "code",
   "execution_count": 22,
   "metadata": {
    "editable": true
   },
   "outputs": [],
   "source": [
    "for i, row in user_df.iterrows():\n",
    "    cur.execute(user_table_insert, row)\n",
    "conn.commit()"
   ]
  },
  {
   "cell_type": "markdown",
   "metadata": {
    "editable": true
   },
   "source": [
    "Run `test.ipynb` to see if you've successfully added records to this table."
   ]
  },
  {
   "cell_type": "markdown",
   "metadata": {
    "editable": true
   },
   "source": [
    "## #5: `songplays` Table\n",
    "#### Extract Data and Songplays Table\n",
    "This one is a little more complicated since information from the songs table, artists table, and original log file are all needed for the `songplays` table. Since the log file does not specify an ID for either the song or the artist, you'll need to get the song ID and artist ID by querying the songs and artists tables to find matches based on song title, artist name, and song duration time.\n",
    "- Implement the `song_select` query in `sql_queries.py` to find the song ID and artist ID based on the title, artist name, and duration of a song.\n",
    "- Select the timestamp, user ID, level, song ID, artist ID, session ID, location, and user agent and set to `songplay_data`\n",
    "\n",
    "#### Insert Records into Songplays Table\n",
    "- Implement the `songplay_table_insert` query and run the cell below to insert records for the songplay actions in this log file into the `songplays` table. Remember to run `create_tables.py` before running the cell below to ensure you've created/resetted the `songplays` table in the sparkify database."
   ]
  },
  {
   "cell_type": "code",
   "execution_count": 24,
   "metadata": {
    "editable": true
   },
   "outputs": [],
   "source": [
    "conn.commit()\n",
    "for index, row in logs_df.iterrows():\n",
    "\n",
    "    # get songid and artistid from song and artist tables\n",
    "    cur.execute(song_select, (row.song, row.artist, row.length))\n",
    "    results = cur.fetchone()\n",
    "    \n",
    "#     print (index, row.song, row.artist, row.length)\n",
    "#     print ((row))\n",
    "    if results:\n",
    "        song_id, artist_id = results\n",
    "\n",
    "        # insert songplay record\n",
    "        songplay_data = (pd.to_datetime(row.ts, unit='ms'), row.userId, row.level, song_id, artist_id, row.sessionId, row.location, row.userAgent)\n",
    "\n",
    "        cur.execute(songplay_table_insert, songplay_data)\n",
    "    else:\n",
    "        song_id, artist_id = None, None\n",
    "\n",
    "conn.commit()"
   ]
  },
  {
   "cell_type": "markdown",
   "metadata": {
    "editable": true
   },
   "source": [
    "Run `test.ipynb` to see if you've successfully added records to this table."
   ]
  },
  {
   "cell_type": "markdown",
   "metadata": {
    "editable": true
   },
   "source": [
    "# Close Connection to Sparkify Database"
   ]
  },
  {
   "cell_type": "code",
   "execution_count": 7,
   "metadata": {
    "editable": true
   },
   "outputs": [
    {
     "ename": "NameError",
     "evalue": "name 'conn' is not defined",
     "output_type": "error",
     "traceback": [
      "\u001b[0;31m---------------------------------------------------------------------------\u001b[0m",
      "\u001b[0;31mNameError\u001b[0m                                 Traceback (most recent call last)",
      "\u001b[0;32m<ipython-input-7-8dd0cd799055>\u001b[0m in \u001b[0;36m<module>\u001b[0;34m()\u001b[0m\n\u001b[0;32m----> 1\u001b[0;31m \u001b[0mconn\u001b[0m\u001b[0;34m.\u001b[0m\u001b[0mclose\u001b[0m\u001b[0;34m(\u001b[0m\u001b[0;34m)\u001b[0m\u001b[0;34m\u001b[0m\u001b[0m\n\u001b[0m",
      "\u001b[0;31mNameError\u001b[0m: name 'conn' is not defined"
     ]
    }
   ],
   "source": [
    "conn.close()"
   ]
  },
  {
   "cell_type": "markdown",
   "metadata": {
    "editable": true
   },
   "source": [
    "# Implement `etl.py`\n",
    "Use what you've completed in this notebook to implement `etl.py`."
   ]
  },
  {
   "cell_type": "code",
   "execution_count": 3,
   "metadata": {
    "editable": true
   },
   "outputs": [],
   "source": [
    "!python3 create_tables.py"
   ]
  },
  {
   "cell_type": "code",
   "execution_count": 4,
   "metadata": {
    "editable": true
   },
   "outputs": [
    {
     "name": "stdout",
     "output_type": "stream",
     "text": [
      "78 files found in data/song_data\n",
      "1/78 files processed.\n",
      "2/78 files processed.\n",
      "3/78 files processed.\n",
      "4/78 files processed.\n",
      "5/78 files processed.\n",
      "6/78 files processed.\n",
      "7/78 files processed.\n",
      "8/78 files processed.\n",
      "9/78 files processed.\n",
      "10/78 files processed.\n",
      "11/78 files processed.\n",
      "12/78 files processed.\n",
      "13/78 files processed.\n",
      "14/78 files processed.\n",
      "15/78 files processed.\n",
      "16/78 files processed.\n",
      "17/78 files processed.\n",
      "18/78 files processed.\n",
      "19/78 files processed.\n",
      "20/78 files processed.\n",
      "21/78 files processed.\n",
      "22/78 files processed.\n",
      "23/78 files processed.\n",
      "24/78 files processed.\n",
      "25/78 files processed.\n",
      "26/78 files processed.\n",
      "27/78 files processed.\n",
      "28/78 files processed.\n",
      "29/78 files processed.\n",
      "30/78 files processed.\n",
      "31/78 files processed.\n",
      "32/78 files processed.\n",
      "33/78 files processed.\n",
      "34/78 files processed.\n",
      "35/78 files processed.\n",
      "36/78 files processed.\n",
      "37/78 files processed.\n",
      "38/78 files processed.\n",
      "39/78 files processed.\n",
      "40/78 files processed.\n",
      "41/78 files processed.\n",
      "42/78 files processed.\n",
      "43/78 files processed.\n",
      "44/78 files processed.\n",
      "45/78 files processed.\n",
      "46/78 files processed.\n",
      "47/78 files processed.\n",
      "48/78 files processed.\n",
      "49/78 files processed.\n",
      "50/78 files processed.\n",
      "51/78 files processed.\n",
      "52/78 files processed.\n",
      "53/78 files processed.\n",
      "54/78 files processed.\n",
      "55/78 files processed.\n",
      "56/78 files processed.\n",
      "57/78 files processed.\n",
      "58/78 files processed.\n",
      "59/78 files processed.\n",
      "60/78 files processed.\n",
      "61/78 files processed.\n",
      "62/78 files processed.\n",
      "63/78 files processed.\n",
      "64/78 files processed.\n",
      "65/78 files processed.\n",
      "66/78 files processed.\n",
      "67/78 files processed.\n",
      "68/78 files processed.\n",
      "69/78 files processed.\n",
      "70/78 files processed.\n",
      "71/78 files processed.\n",
      "72/78 files processed.\n",
      "73/78 files processed.\n",
      "74/78 files processed.\n",
      "75/78 files processed.\n",
      "76/78 files processed.\n",
      "77/78 files processed.\n",
      "78/78 files processed.\n",
      "30 files found in data/log_data\n",
      "1/30 files processed.\n",
      "2/30 files processed.\n",
      "3/30 files processed.\n",
      "4/30 files processed.\n",
      "5/30 files processed.\n",
      "6/30 files processed.\n",
      "7/30 files processed.\n",
      "8/30 files processed.\n",
      "9/30 files processed.\n",
      "10/30 files processed.\n",
      "11/30 files processed.\n",
      "12/30 files processed.\n",
      "13/30 files processed.\n",
      "14/30 files processed.\n",
      "15/30 files processed.\n",
      "16/30 files processed.\n",
      "17/30 files processed.\n",
      "18/30 files processed.\n",
      "19/30 files processed.\n",
      "20/30 files processed.\n",
      "21/30 files processed.\n",
      "22/30 files processed.\n",
      "23/30 files processed.\n",
      "24/30 files processed.\n",
      "25/30 files processed.\n",
      "26/30 files processed.\n",
      "27/30 files processed.\n",
      "28/30 files processed.\n",
      "29/30 files processed.\n",
      "30/30 files processed.\n"
     ]
    }
   ],
   "source": [
    "!python3 etl.py"
   ]
  },
  {
   "cell_type": "code",
   "execution_count": null,
   "metadata": {
    "editable": true
   },
   "outputs": [],
   "source": []
  }
 ],
 "metadata": {
  "kernelspec": {
   "display_name": "Python 3",
   "language": "python",
   "name": "python3"
  },
  "language_info": {
   "codemirror_mode": {
    "name": "ipython",
    "version": 3
   },
   "file_extension": ".py",
   "mimetype": "text/x-python",
   "name": "python",
   "nbconvert_exporter": "python",
   "pygments_lexer": "ipython3",
   "version": "3.6.3"
  }
 },
 "nbformat": 4,
 "nbformat_minor": 4
}
